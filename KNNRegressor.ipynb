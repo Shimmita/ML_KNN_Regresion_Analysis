{
 "cells": [
  {
   "cell_type": "markdown",
   "id": "fc0727fb",
   "metadata": {},
   "source": [
    "# K-Nearest Neighbor  (KNN)\n",
    "## a) Using the KNNRegressor\n",
    "### useful for contionous results such as the the stock price fluctutions \n",
    "### Is alternative for linear regression and KNNClassifier"
   ]
  },
  {
   "cell_type": "code",
   "execution_count": 1,
   "id": "1ac250f4",
   "metadata": {},
   "outputs": [],
   "source": [
    "import pandas as pd\n",
    "from sklearn.preprocessing import StandardScaler\n",
    "from sklearn.neighbors import KNeighborsRegressor\n",
    "from sklearn.model_selection import train_test_split\n",
    "from sklearn.metrics import mean_squared_error, accuracy_score, f1_score\n",
    "from math import sqrt\n"
   ]
  },
  {
   "cell_type": "code",
   "execution_count": 2,
   "id": "5be357e7",
   "metadata": {},
   "outputs": [],
   "source": [
    "#use pandas to load the csv file containing the dataframe\n",
    "df=pd.read_csv('gas_prices.csv')\n",
    "#our target is years prediction thus it a dependent variable while the rest features indepenednt variables\n",
    "x_features=df.drop('Year', axis=1)\n",
    "#Year dataset\n",
    "y_target=df.Year\n"
   ]
  },
  {
   "cell_type": "markdown",
   "id": "d255001a",
   "metadata": {},
   "source": [
    "### split the dataset and use 20-30% of the overall dataset for testing, the rest for training the model"
   ]
  },
  {
   "cell_type": "code",
   "execution_count": 3,
   "id": "b5a56690",
   "metadata": {},
   "outputs": [],
   "source": [
    "#splitting process\n",
    "x_train,x_test,y_train,y_test=train_test_split(x_features,y_target,test_size=0.2)"
   ]
  },
  {
   "cell_type": "markdown",
   "id": "722a8d70",
   "metadata": {},
   "source": [
    "### scaling the data is imporntant in KNNRegressor to minimise bias"
   ]
  },
  {
   "cell_type": "code",
   "execution_count": 4,
   "id": "a4def0c8",
   "metadata": {},
   "outputs": [],
   "source": [
    "#init of the scaler and pass the x_train and the x_test\n",
    "scaler=StandardScaler()\n",
    "#scaling the x_train\n",
    "x_train=scaler.fit_transform(x_train)\n",
    "#scaling the x_test\n",
    "x_test=scaler.fit_transform(x_test)"
   ]
  },
  {
   "cell_type": "markdown",
   "id": "b07fa0ba",
   "metadata": {},
   "source": [
    "### training the model"
   ]
  },
  {
   "cell_type": "code",
   "execution_count": 5,
   "id": "6d312b9f",
   "metadata": {},
   "outputs": [
    {
     "data": {
      "text/html": [
       "<style>#sk-container-id-1 {color: black;}#sk-container-id-1 pre{padding: 0;}#sk-container-id-1 div.sk-toggleable {background-color: white;}#sk-container-id-1 label.sk-toggleable__label {cursor: pointer;display: block;width: 100%;margin-bottom: 0;padding: 0.3em;box-sizing: border-box;text-align: center;}#sk-container-id-1 label.sk-toggleable__label-arrow:before {content: \"▸\";float: left;margin-right: 0.25em;color: #696969;}#sk-container-id-1 label.sk-toggleable__label-arrow:hover:before {color: black;}#sk-container-id-1 div.sk-estimator:hover label.sk-toggleable__label-arrow:before {color: black;}#sk-container-id-1 div.sk-toggleable__content {max-height: 0;max-width: 0;overflow: hidden;text-align: left;background-color: #f0f8ff;}#sk-container-id-1 div.sk-toggleable__content pre {margin: 0.2em;color: black;border-radius: 0.25em;background-color: #f0f8ff;}#sk-container-id-1 input.sk-toggleable__control:checked~div.sk-toggleable__content {max-height: 200px;max-width: 100%;overflow: auto;}#sk-container-id-1 input.sk-toggleable__control:checked~label.sk-toggleable__label-arrow:before {content: \"▾\";}#sk-container-id-1 div.sk-estimator input.sk-toggleable__control:checked~label.sk-toggleable__label {background-color: #d4ebff;}#sk-container-id-1 div.sk-label input.sk-toggleable__control:checked~label.sk-toggleable__label {background-color: #d4ebff;}#sk-container-id-1 input.sk-hidden--visually {border: 0;clip: rect(1px 1px 1px 1px);clip: rect(1px, 1px, 1px, 1px);height: 1px;margin: -1px;overflow: hidden;padding: 0;position: absolute;width: 1px;}#sk-container-id-1 div.sk-estimator {font-family: monospace;background-color: #f0f8ff;border: 1px dotted black;border-radius: 0.25em;box-sizing: border-box;margin-bottom: 0.5em;}#sk-container-id-1 div.sk-estimator:hover {background-color: #d4ebff;}#sk-container-id-1 div.sk-parallel-item::after {content: \"\";width: 100%;border-bottom: 1px solid gray;flex-grow: 1;}#sk-container-id-1 div.sk-label:hover label.sk-toggleable__label {background-color: #d4ebff;}#sk-container-id-1 div.sk-serial::before {content: \"\";position: absolute;border-left: 1px solid gray;box-sizing: border-box;top: 0;bottom: 0;left: 50%;z-index: 0;}#sk-container-id-1 div.sk-serial {display: flex;flex-direction: column;align-items: center;background-color: white;padding-right: 0.2em;padding-left: 0.2em;position: relative;}#sk-container-id-1 div.sk-item {position: relative;z-index: 1;}#sk-container-id-1 div.sk-parallel {display: flex;align-items: stretch;justify-content: center;background-color: white;position: relative;}#sk-container-id-1 div.sk-item::before, #sk-container-id-1 div.sk-parallel-item::before {content: \"\";position: absolute;border-left: 1px solid gray;box-sizing: border-box;top: 0;bottom: 0;left: 50%;z-index: -1;}#sk-container-id-1 div.sk-parallel-item {display: flex;flex-direction: column;z-index: 1;position: relative;background-color: white;}#sk-container-id-1 div.sk-parallel-item:first-child::after {align-self: flex-end;width: 50%;}#sk-container-id-1 div.sk-parallel-item:last-child::after {align-self: flex-start;width: 50%;}#sk-container-id-1 div.sk-parallel-item:only-child::after {width: 0;}#sk-container-id-1 div.sk-dashed-wrapped {border: 1px dashed gray;margin: 0 0.4em 0.5em 0.4em;box-sizing: border-box;padding-bottom: 0.4em;background-color: white;}#sk-container-id-1 div.sk-label label {font-family: monospace;font-weight: bold;display: inline-block;line-height: 1.2em;}#sk-container-id-1 div.sk-label-container {text-align: center;}#sk-container-id-1 div.sk-container {/* jupyter's `normalize.less` sets `[hidden] { display: none; }` but bootstrap.min.css set `[hidden] { display: none !important; }` so we also need the `!important` here to be able to override the default hidden behavior on the sphinx rendered scikit-learn.org. See: https://github.com/scikit-learn/scikit-learn/issues/21755 */display: inline-block !important;position: relative;}#sk-container-id-1 div.sk-text-repr-fallback {display: none;}</style><div id=\"sk-container-id-1\" class=\"sk-top-container\"><div class=\"sk-text-repr-fallback\"><pre>KNeighborsRegressor(n_neighbors=3)</pre><b>In a Jupyter environment, please rerun this cell to show the HTML representation or trust the notebook. <br />On GitHub, the HTML representation is unable to render, please try loading this page with nbviewer.org.</b></div><div class=\"sk-container\" hidden><div class=\"sk-item\"><div class=\"sk-estimator sk-toggleable\"><input class=\"sk-toggleable__control sk-hidden--visually\" id=\"sk-estimator-id-1\" type=\"checkbox\" checked><label for=\"sk-estimator-id-1\" class=\"sk-toggleable__label sk-toggleable__label-arrow\">KNeighborsRegressor</label><div class=\"sk-toggleable__content\"><pre>KNeighborsRegressor(n_neighbors=3)</pre></div></div></div></div></div>"
      ],
      "text/plain": [
       "KNeighborsRegressor(n_neighbors=3)"
      ]
     },
     "execution_count": 5,
     "metadata": {},
     "output_type": "execute_result"
    }
   ],
   "source": [
    "#init the KNNRegressor model and pass the k-value which mostly is recommended to use sqrt of the dataset size\n",
    "#if the value is even we add or subract to have an odd value else we use the value.\n",
    "k_val=sqrt(len(df))\n",
    "#val is 4 using 3 or 5 will be the best approach. depending on the mean_square_error it will ditermine the best\n",
    "k_val=int(k_val-1)\n",
    "#init the KNNRegressor model\n",
    "model=KNeighborsRegressor(n_neighbors=k_val)\n",
    "#actual training\n",
    "model.fit(x_train,y_train)\n",
    "\n"
   ]
  },
  {
   "cell_type": "markdown",
   "id": "b8ce2057",
   "metadata": {},
   "source": [
    "### prediction of the model"
   ]
  },
  {
   "cell_type": "code",
   "execution_count": 6,
   "id": "597cc9db",
   "metadata": {},
   "outputs": [
    {
     "data": {
      "text/plain": [
       "array([1995.33333333, 2003.33333333, 2006.        , 1993.33333333])"
      ]
     },
     "execution_count": 6,
     "metadata": {},
     "output_type": "execute_result"
    }
   ],
   "source": [
    "#lets predict the value of x_test_scaled that was 30% from the overall dataset\n",
    "prediction=model.predict(x_test)\n",
    "prediction"
   ]
  },
  {
   "cell_type": "code",
   "execution_count": 7,
   "id": "4cff9db6",
   "metadata": {},
   "outputs": [
    {
     "data": {
      "text/plain": [
       "array([[-1.34081338, -1.11414919, -0.11684243, -0.76462824, -0.36058643,\n",
       "        -1.37677251, -0.9806411 , -0.85207354, -0.0333299 , -1.09630315],\n",
       "       [ 0.19863902,  0.72995981, -0.36850304, -0.54616303, -0.57092851,\n",
       "         0.13676548,  0.94363578,  1.05256143,  0.73696122,  0.81956643],\n",
       "       [ 1.44013289,  1.229406  ,  1.60883035,  1.71793098,  1.71278554,\n",
       "        -0.19147167,  1.05465175,  0.93561016,  0.91472071,  1.16016547],\n",
       "       [-0.29795853, -0.84521663, -1.12348488, -0.40713971, -0.7812706 ,\n",
       "         1.4314787 , -1.01764642, -1.13609805, -1.61835203, -0.88342875]])"
      ]
     },
     "execution_count": 7,
     "metadata": {},
     "output_type": "execute_result"
    }
   ],
   "source": [
    "x_test"
   ]
  },
  {
   "cell_type": "code",
   "execution_count": 8,
   "id": "3a824b0c",
   "metadata": {},
   "outputs": [
    {
     "data": {
      "text/plain": [
       "8     1998\n",
       "10    2000\n",
       "13    2003\n",
       "4     1994\n",
       "Name: Year, dtype: int64"
      ]
     },
     "execution_count": 8,
     "metadata": {},
     "output_type": "execute_result"
    }
   ],
   "source": [
    "y_test"
   ]
  },
  {
   "cell_type": "code",
   "execution_count": 9,
   "id": "73385d45",
   "metadata": {},
   "outputs": [
    {
     "data": {
      "text/html": [
       "<div>\n",
       "<style scoped>\n",
       "    .dataframe tbody tr th:only-of-type {\n",
       "        vertical-align: middle;\n",
       "    }\n",
       "\n",
       "    .dataframe tbody tr th {\n",
       "        vertical-align: top;\n",
       "    }\n",
       "\n",
       "    .dataframe thead th {\n",
       "        text-align: right;\n",
       "    }\n",
       "</style>\n",
       "<table border=\"1\" class=\"dataframe\">\n",
       "  <thead>\n",
       "    <tr style=\"text-align: right;\">\n",
       "      <th></th>\n",
       "      <th>Year</th>\n",
       "      <th>Australia</th>\n",
       "      <th>Canada</th>\n",
       "      <th>France</th>\n",
       "      <th>Germany</th>\n",
       "      <th>Italy</th>\n",
       "      <th>Japan</th>\n",
       "      <th>Mexico</th>\n",
       "      <th>South Korea</th>\n",
       "      <th>UK</th>\n",
       "      <th>USA</th>\n",
       "    </tr>\n",
       "  </thead>\n",
       "  <tbody>\n",
       "    <tr>\n",
       "      <th>0</th>\n",
       "      <td>1990</td>\n",
       "      <td>1.51</td>\n",
       "      <td>1.87</td>\n",
       "      <td>3.63</td>\n",
       "      <td>2.65</td>\n",
       "      <td>4.59</td>\n",
       "      <td>3.16</td>\n",
       "      <td>1.00</td>\n",
       "      <td>2.05</td>\n",
       "      <td>2.82</td>\n",
       "      <td>1.16</td>\n",
       "    </tr>\n",
       "    <tr>\n",
       "      <th>1</th>\n",
       "      <td>1991</td>\n",
       "      <td>1.96</td>\n",
       "      <td>1.92</td>\n",
       "      <td>3.45</td>\n",
       "      <td>2.90</td>\n",
       "      <td>4.50</td>\n",
       "      <td>3.46</td>\n",
       "      <td>1.30</td>\n",
       "      <td>2.49</td>\n",
       "      <td>3.01</td>\n",
       "      <td>1.14</td>\n",
       "    </tr>\n",
       "    <tr>\n",
       "      <th>2</th>\n",
       "      <td>1992</td>\n",
       "      <td>1.89</td>\n",
       "      <td>1.73</td>\n",
       "      <td>3.56</td>\n",
       "      <td>3.27</td>\n",
       "      <td>4.53</td>\n",
       "      <td>3.58</td>\n",
       "      <td>1.50</td>\n",
       "      <td>2.65</td>\n",
       "      <td>3.06</td>\n",
       "      <td>1.13</td>\n",
       "    </tr>\n",
       "    <tr>\n",
       "      <th>3</th>\n",
       "      <td>1993</td>\n",
       "      <td>1.73</td>\n",
       "      <td>1.57</td>\n",
       "      <td>3.41</td>\n",
       "      <td>3.07</td>\n",
       "      <td>3.68</td>\n",
       "      <td>4.16</td>\n",
       "      <td>1.56</td>\n",
       "      <td>2.88</td>\n",
       "      <td>2.84</td>\n",
       "      <td>1.11</td>\n",
       "    </tr>\n",
       "    <tr>\n",
       "      <th>4</th>\n",
       "      <td>1994</td>\n",
       "      <td>1.84</td>\n",
       "      <td>1.45</td>\n",
       "      <td>3.59</td>\n",
       "      <td>3.52</td>\n",
       "      <td>3.70</td>\n",
       "      <td>4.36</td>\n",
       "      <td>1.48</td>\n",
       "      <td>2.87</td>\n",
       "      <td>2.99</td>\n",
       "      <td>1.11</td>\n",
       "    </tr>\n",
       "    <tr>\n",
       "      <th>5</th>\n",
       "      <td>1995</td>\n",
       "      <td>1.95</td>\n",
       "      <td>1.53</td>\n",
       "      <td>4.26</td>\n",
       "      <td>3.96</td>\n",
       "      <td>4.00</td>\n",
       "      <td>4.43</td>\n",
       "      <td>1.11</td>\n",
       "      <td>2.94</td>\n",
       "      <td>3.21</td>\n",
       "      <td>1.15</td>\n",
       "    </tr>\n",
       "    <tr>\n",
       "      <th>6</th>\n",
       "      <td>1996</td>\n",
       "      <td>2.12</td>\n",
       "      <td>1.61</td>\n",
       "      <td>4.41</td>\n",
       "      <td>3.94</td>\n",
       "      <td>4.39</td>\n",
       "      <td>3.64</td>\n",
       "      <td>1.25</td>\n",
       "      <td>3.18</td>\n",
       "      <td>3.34</td>\n",
       "      <td>1.23</td>\n",
       "    </tr>\n",
       "    <tr>\n",
       "      <th>7</th>\n",
       "      <td>1997</td>\n",
       "      <td>2.05</td>\n",
       "      <td>1.62</td>\n",
       "      <td>4.00</td>\n",
       "      <td>3.53</td>\n",
       "      <td>4.07</td>\n",
       "      <td>3.26</td>\n",
       "      <td>1.47</td>\n",
       "      <td>3.34</td>\n",
       "      <td>3.83</td>\n",
       "      <td>1.23</td>\n",
       "    </tr>\n",
       "    <tr>\n",
       "      <th>8</th>\n",
       "      <td>1998</td>\n",
       "      <td>1.63</td>\n",
       "      <td>1.38</td>\n",
       "      <td>3.87</td>\n",
       "      <td>3.34</td>\n",
       "      <td>3.84</td>\n",
       "      <td>2.82</td>\n",
       "      <td>1.49</td>\n",
       "      <td>3.04</td>\n",
       "      <td>4.06</td>\n",
       "      <td>1.06</td>\n",
       "    </tr>\n",
       "    <tr>\n",
       "      <th>9</th>\n",
       "      <td>1999</td>\n",
       "      <td>1.72</td>\n",
       "      <td>1.52</td>\n",
       "      <td>3.85</td>\n",
       "      <td>3.42</td>\n",
       "      <td>3.87</td>\n",
       "      <td>3.27</td>\n",
       "      <td>1.79</td>\n",
       "      <td>3.80</td>\n",
       "      <td>4.29</td>\n",
       "      <td>1.17</td>\n",
       "    </tr>\n",
       "    <tr>\n",
       "      <th>10</th>\n",
       "      <td>2000</td>\n",
       "      <td>1.94</td>\n",
       "      <td>1.86</td>\n",
       "      <td>3.80</td>\n",
       "      <td>3.45</td>\n",
       "      <td>3.77</td>\n",
       "      <td>3.65</td>\n",
       "      <td>2.01</td>\n",
       "      <td>4.18</td>\n",
       "      <td>4.58</td>\n",
       "      <td>1.51</td>\n",
       "    </tr>\n",
       "    <tr>\n",
       "      <th>11</th>\n",
       "      <td>2001</td>\n",
       "      <td>1.71</td>\n",
       "      <td>1.72</td>\n",
       "      <td>3.51</td>\n",
       "      <td>3.40</td>\n",
       "      <td>3.57</td>\n",
       "      <td>3.27</td>\n",
       "      <td>2.20</td>\n",
       "      <td>3.76</td>\n",
       "      <td>4.13</td>\n",
       "      <td>1.46</td>\n",
       "    </tr>\n",
       "    <tr>\n",
       "      <th>12</th>\n",
       "      <td>2002</td>\n",
       "      <td>1.76</td>\n",
       "      <td>1.69</td>\n",
       "      <td>3.62</td>\n",
       "      <td>3.67</td>\n",
       "      <td>3.74</td>\n",
       "      <td>3.15</td>\n",
       "      <td>2.24</td>\n",
       "      <td>3.84</td>\n",
       "      <td>4.16</td>\n",
       "      <td>1.36</td>\n",
       "    </tr>\n",
       "    <tr>\n",
       "      <th>13</th>\n",
       "      <td>2003</td>\n",
       "      <td>2.19</td>\n",
       "      <td>1.99</td>\n",
       "      <td>4.35</td>\n",
       "      <td>4.59</td>\n",
       "      <td>4.53</td>\n",
       "      <td>3.47</td>\n",
       "      <td>2.04</td>\n",
       "      <td>4.11</td>\n",
       "      <td>4.70</td>\n",
       "      <td>1.59</td>\n",
       "    </tr>\n",
       "    <tr>\n",
       "      <th>14</th>\n",
       "      <td>2004</td>\n",
       "      <td>2.72</td>\n",
       "      <td>2.37</td>\n",
       "      <td>4.99</td>\n",
       "      <td>5.24</td>\n",
       "      <td>5.29</td>\n",
       "      <td>3.93</td>\n",
       "      <td>2.03</td>\n",
       "      <td>4.51</td>\n",
       "      <td>5.56</td>\n",
       "      <td>1.88</td>\n",
       "    </tr>\n",
       "    <tr>\n",
       "      <th>15</th>\n",
       "      <td>2005</td>\n",
       "      <td>3.23</td>\n",
       "      <td>2.89</td>\n",
       "      <td>5.46</td>\n",
       "      <td>5.66</td>\n",
       "      <td>5.74</td>\n",
       "      <td>4.28</td>\n",
       "      <td>2.22</td>\n",
       "      <td>5.28</td>\n",
       "      <td>5.97</td>\n",
       "      <td>2.30</td>\n",
       "    </tr>\n",
       "    <tr>\n",
       "      <th>16</th>\n",
       "      <td>2006</td>\n",
       "      <td>3.54</td>\n",
       "      <td>3.26</td>\n",
       "      <td>5.88</td>\n",
       "      <td>6.03</td>\n",
       "      <td>6.10</td>\n",
       "      <td>4.47</td>\n",
       "      <td>2.31</td>\n",
       "      <td>5.92</td>\n",
       "      <td>6.36</td>\n",
       "      <td>2.59</td>\n",
       "    </tr>\n",
       "    <tr>\n",
       "      <th>17</th>\n",
       "      <td>2007</td>\n",
       "      <td>3.85</td>\n",
       "      <td>3.59</td>\n",
       "      <td>6.60</td>\n",
       "      <td>6.88</td>\n",
       "      <td>6.73</td>\n",
       "      <td>4.49</td>\n",
       "      <td>2.40</td>\n",
       "      <td>6.21</td>\n",
       "      <td>7.13</td>\n",
       "      <td>2.80</td>\n",
       "    </tr>\n",
       "    <tr>\n",
       "      <th>18</th>\n",
       "      <td>2008</td>\n",
       "      <td>4.45</td>\n",
       "      <td>4.08</td>\n",
       "      <td>7.51</td>\n",
       "      <td>7.75</td>\n",
       "      <td>7.63</td>\n",
       "      <td>5.74</td>\n",
       "      <td>2.45</td>\n",
       "      <td>5.83</td>\n",
       "      <td>7.42</td>\n",
       "      <td>3.27</td>\n",
       "    </tr>\n",
       "  </tbody>\n",
       "</table>\n",
       "</div>"
      ],
      "text/plain": [
       "    Year  Australia  Canada  France  Germany  Italy  Japan  Mexico  \\\n",
       "0   1990       1.51    1.87    3.63     2.65   4.59   3.16    1.00   \n",
       "1   1991       1.96    1.92    3.45     2.90   4.50   3.46    1.30   \n",
       "2   1992       1.89    1.73    3.56     3.27   4.53   3.58    1.50   \n",
       "3   1993       1.73    1.57    3.41     3.07   3.68   4.16    1.56   \n",
       "4   1994       1.84    1.45    3.59     3.52   3.70   4.36    1.48   \n",
       "5   1995       1.95    1.53    4.26     3.96   4.00   4.43    1.11   \n",
       "6   1996       2.12    1.61    4.41     3.94   4.39   3.64    1.25   \n",
       "7   1997       2.05    1.62    4.00     3.53   4.07   3.26    1.47   \n",
       "8   1998       1.63    1.38    3.87     3.34   3.84   2.82    1.49   \n",
       "9   1999       1.72    1.52    3.85     3.42   3.87   3.27    1.79   \n",
       "10  2000       1.94    1.86    3.80     3.45   3.77   3.65    2.01   \n",
       "11  2001       1.71    1.72    3.51     3.40   3.57   3.27    2.20   \n",
       "12  2002       1.76    1.69    3.62     3.67   3.74   3.15    2.24   \n",
       "13  2003       2.19    1.99    4.35     4.59   4.53   3.47    2.04   \n",
       "14  2004       2.72    2.37    4.99     5.24   5.29   3.93    2.03   \n",
       "15  2005       3.23    2.89    5.46     5.66   5.74   4.28    2.22   \n",
       "16  2006       3.54    3.26    5.88     6.03   6.10   4.47    2.31   \n",
       "17  2007       3.85    3.59    6.60     6.88   6.73   4.49    2.40   \n",
       "18  2008       4.45    4.08    7.51     7.75   7.63   5.74    2.45   \n",
       "\n",
       "    South Korea    UK   USA  \n",
       "0          2.05  2.82  1.16  \n",
       "1          2.49  3.01  1.14  \n",
       "2          2.65  3.06  1.13  \n",
       "3          2.88  2.84  1.11  \n",
       "4          2.87  2.99  1.11  \n",
       "5          2.94  3.21  1.15  \n",
       "6          3.18  3.34  1.23  \n",
       "7          3.34  3.83  1.23  \n",
       "8          3.04  4.06  1.06  \n",
       "9          3.80  4.29  1.17  \n",
       "10         4.18  4.58  1.51  \n",
       "11         3.76  4.13  1.46  \n",
       "12         3.84  4.16  1.36  \n",
       "13         4.11  4.70  1.59  \n",
       "14         4.51  5.56  1.88  \n",
       "15         5.28  5.97  2.30  \n",
       "16         5.92  6.36  2.59  \n",
       "17         6.21  7.13  2.80  \n",
       "18         5.83  7.42  3.27  "
      ]
     },
     "execution_count": 9,
     "metadata": {},
     "output_type": "execute_result"
    }
   ],
   "source": [
    "df"
   ]
  },
  {
   "cell_type": "markdown",
   "id": "b6f153b7",
   "metadata": {},
   "source": [
    "### Calculating the Mean Square Error"
   ]
  },
  {
   "cell_type": "code",
   "execution_count": 10,
   "id": "b21774d0",
   "metadata": {},
   "outputs": [
    {
     "data": {
      "text/plain": [
       "6.916666666666667"
      ]
     },
     "execution_count": 10,
     "metadata": {},
     "output_type": "execute_result"
    }
   ],
   "source": [
    "mean_error=mean_squared_error(y_true=y_test,y_pred=prediction)\n",
    "mean_error"
   ]
  },
  {
   "cell_type": "code",
   "execution_count": null,
   "id": "6b85f409",
   "metadata": {},
   "outputs": [],
   "source": []
  }
 ],
 "metadata": {
  "kernelspec": {
   "display_name": "Python 3 (ipykernel)",
   "language": "python",
   "name": "python3"
  },
  "language_info": {
   "codemirror_mode": {
    "name": "ipython",
    "version": 3
   },
   "file_extension": ".py",
   "mimetype": "text/x-python",
   "name": "python",
   "nbconvert_exporter": "python",
   "pygments_lexer": "ipython3",
   "version": "3.11.4"
  }
 },
 "nbformat": 4,
 "nbformat_minor": 5
}
